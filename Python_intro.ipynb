{
  "nbformat": 4,
  "nbformat_minor": 0,
  "metadata": {
    "colab": {
      "provenance": [],
      "authorship_tag": "ABX9TyOcrAQQMbVOnjelfTJGMcTp",
      "include_colab_link": true
    },
    "kernelspec": {
      "name": "python3",
      "display_name": "Python 3"
    },
    "language_info": {
      "name": "python"
    }
  },
  "cells": [
    {
      "cell_type": "markdown",
      "metadata": {
        "id": "view-in-github",
        "colab_type": "text"
      },
      "source": [
        "<a href=\"https://colab.research.google.com/github/thakurnitesh27/machine_learning/blob/main/Python_intro.ipynb\" target=\"_parent\"><img src=\"https://colab.research.google.com/assets/colab-badge.svg\" alt=\"Open In Colab\"/></a>"
      ]
    },
    {
      "cell_type": "code",
      "execution_count": null,
      "metadata": {
        "id": "xgs3ne1MeLR1"
      },
      "outputs": [],
      "source": [
        "#Define list\n",
        "list=[\"apples\",\"oranges\",\"mangoes\",\"guavas\"]"
      ]
    },
    {
      "cell_type": "code",
      "source": [
        "print(f\"list is: {list}\")"
      ],
      "metadata": {
        "colab": {
          "base_uri": "https://localhost:8080/"
        },
        "id": "mrIrnlOIewsp",
        "outputId": "0d07ecde-42ec-453f-cea1-0bb922070c6f"
      },
      "execution_count": null,
      "outputs": [
        {
          "output_type": "stream",
          "name": "stdout",
          "text": [
            "list is: ['apples', 'oranges', 'mangoes']\n"
          ]
        }
      ]
    },
    {
      "cell_type": "markdown",
      "source": [
        "List is basically a mutable linked list. len() gives length and indexes work from 0.\n",
        "\n",
        "---\n",
        "\n"
      ],
      "metadata": {
        "id": "dFiok4LR35J5"
      }
    },
    {
      "cell_type": "code",
      "source": [
        "print(f\" This will return 1st element {list[1]}\")\n",
        "print(f\" This will return all elements till 2nd element exluded {list[:2]}\")\n",
        "print(f\" This will return from 1st element till length of list {list[1:]}\")"
      ],
      "metadata": {
        "colab": {
          "base_uri": "https://localhost:8080/"
        },
        "id": "rDSylaVP4MRh",
        "outputId": "f6dca3fe-01e7-4084-d66c-0942d1ea00fb"
      },
      "execution_count": null,
      "outputs": [
        {
          "output_type": "stream",
          "name": "stdout",
          "text": [
            " This will return 1st element oranges\n",
            " This will return all elements till 2nd element exluded ['apples', 'oranges']\n",
            " This will return from 1st element till length of list ['oranges', 'mangoes', 'guavas']\n"
          ]
        }
      ]
    },
    {
      "cell_type": "code",
      "source": [
        "exotic_fruits=[]\n",
        "exotic_fruits.append(\"Strawberries\")\n",
        "exotic_fruits.append(\"Blueberries\")\n",
        "all_fruits=list+exotic_fruits\n",
        "print(f\"This will return all fruits {all_fruits}\")"
      ],
      "metadata": {
        "colab": {
          "base_uri": "https://localhost:8080/"
        },
        "id": "0va5LVzN31M2",
        "outputId": "159a1417-90fa-4e7f-c43b-28afa4196282"
      },
      "execution_count": null,
      "outputs": [
        {
          "output_type": "stream",
          "name": "stdout",
          "text": [
            "This will return all fruits ['apples', 'oranges', 'mangoes', 'guavas', 'Strawberries', 'Blueberries']\n"
          ]
        }
      ]
    },
    {
      "cell_type": "code",
      "source": [],
      "metadata": {
        "id": "RXTNdzQy-A0a"
      },
      "execution_count": null,
      "outputs": []
    },
    {
      "cell_type": "markdown",
      "source": [
        "Find median :2 ways are there . One is using the logic of sorting the list and finding the middle element. Another one is using avaialble function. Method and function have one difference though."
      ],
      "metadata": {
        "id": "ot2Cf-0A-FaV"
      }
    },
    {
      "cell_type": "code",
      "source": [
        "def find_median():\n",
        "    length=(int)(input(\"Enter length: \"))\n",
        "    nums=[]\n",
        "    for i in range(length):\n",
        "        nums.append((int)(input(f\"Enter number {i}: \")))\n",
        "    median=0\n",
        "    nums.sort()\n",
        "    if(len(nums)%2==0):\n",
        "        mid_index=int(len(nums)/2)\n",
        "        median=(nums[mid_index]+nums[mid_index-1])/2\n",
        "    else:\n",
        "        mid_index=int(len(nums)/2)\n",
        "        median=nums[mid_index]\n",
        "    return median\n",
        "\n",
        "find_median()"
      ],
      "metadata": {
        "colab": {
          "base_uri": "https://localhost:8080/"
        },
        "id": "168l3GLf-Yu7",
        "outputId": "85a399c6-54de-4f37-8119-ae91cb7190b2"
      },
      "execution_count": 13,
      "outputs": [
        {
          "name": "stdout",
          "output_type": "stream",
          "text": [
            "Enter length: 2\n",
            "Enter number 0: 1\n",
            "Enter number 1: 2\n"
          ]
        },
        {
          "output_type": "execute_result",
          "data": {
            "text/plain": [
              "1.5"
            ]
          },
          "metadata": {},
          "execution_count": 13
        }
      ]
    },
    {
      "cell_type": "code",
      "source": [
        "#Alternatviely using numpy, median can be calculated.\n",
        "import numpy as np\n",
        "\n",
        "def find_median():\n",
        "    length=(int)(input(\"Enter length: \"))\n",
        "    nums=[]\n",
        "    for i in range(length):\n",
        "        nums.append((int)(input(f\"Enter number {i}: \")))\n",
        "\n",
        "    median=np.median(nums)\n",
        "    return float(median)\n",
        "\n",
        "find_median()"
      ],
      "metadata": {
        "id": "hJU4Dyqt1dox",
        "colab": {
          "base_uri": "https://localhost:8080/"
        },
        "outputId": "55aaea4f-87e1-41ff-ace6-9c161782e701"
      },
      "execution_count": 17,
      "outputs": [
        {
          "name": "stdout",
          "output_type": "stream",
          "text": [
            "Enter length: 2\n",
            "Enter number 0: 1\n",
            "Enter number 1: 2\n"
          ]
        },
        {
          "output_type": "execute_result",
          "data": {
            "text/plain": [
              "1.5"
            ]
          },
          "metadata": {},
          "execution_count": 17
        }
      ]
    }
  ]
}